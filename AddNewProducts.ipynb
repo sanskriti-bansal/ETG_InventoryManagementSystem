{
  "nbformat": 4,
  "nbformat_minor": 0,
  "metadata": {
    "colab": {
      "name": "AddNewProducts.ipynb",
      "provenance": []
    },
    "kernelspec": {
      "name": "python3",
      "display_name": "Python 3"
    },
    "language_info": {
      "name": "python"
    }
  },
  "cells": [
    {
      "cell_type": "markdown",
      "metadata": {
        "id": "thZe6CXI5d5L"
      },
      "source": [
        "##Reading the JSON file"
      ]
    },
    {
      "cell_type": "code",
      "metadata": {
        "id": "xsOsc5rkBy3o"
      },
      "source": [
        "import json"
      ],
      "execution_count": null,
      "outputs": []
    },
    {
      "cell_type": "code",
      "metadata": {
        "id": "ghzWlP3-_Etv"
      },
      "source": [
        "fd = open(\"record.json\",'r')\n",
        "r = fd.read()\n",
        "fd.close()\n",
        "\n",
        "record = json.loads(r)"
      ],
      "execution_count": null,
      "outputs": []
    },
    {
      "cell_type": "code",
      "metadata": {
        "id": "i3FHe_l950d6"
      },
      "source": [
        "record"
      ],
      "execution_count": null,
      "outputs": []
    },
    {
      "cell_type": "markdown",
      "metadata": {
        "id": "iIrbYw3d6Nna"
      },
      "source": [
        "##Adding/Updating items into JSON File"
      ]
    },
    {
      "cell_type": "code",
      "metadata": {
        "id": "sDf2XvXF6O_s"
      },
      "source": [
        "Prod_id = str(input(\"Enter Product id:\"))\n",
        "Name = str(input(\"Enter Name:\"))\n",
        "Pr = int(input(\"Enter Price:\"))\n",
        "Qn = int(input(\"Enter quantity:\"))\n",
        "Tax = int(input(\"Enter Tax :\"))\n",
        "bestBefore = int(input(\"Enter no. of months before expiry:\"))\n",
        "\n",
        "#updating quantity of existing product\n",
        "for i in record.keys():\n",
        "  if Prod_id == i:\n",
        "     Qn = record[Prod_id]['Qn'] + Qn\n",
        "     break\n",
        "\n",
        "record[Prod_id] = { 'Name': Name, 'Pr': Pr, 'Qn': Qn, 'Tax': Tax, 'Best before(months)': bestBefore}\n",
        "\n",
        "js = json.dumps(record)\n",
        "\n",
        "fd = open(\"record.json\",'w')\n",
        "fd.write(js)\n",
        "fd.close()"
      ],
      "execution_count": null,
      "outputs": []
    }
  ]
}