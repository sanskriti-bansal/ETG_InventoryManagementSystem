{
  "nbformat": 4,
  "nbformat_minor": 0,
  "metadata": {
    "colab": {
      "name": "PurchaseProucts.ipynb",
      "provenance": []
    },
    "kernelspec": {
      "name": "python3",
      "display_name": "Python 3"
    },
    "language_info": {
      "name": "python"
    }
  },
  "cells": [
    {
      "cell_type": "markdown",
      "metadata": {
        "id": "G5Gbo7GXuzQB"
      },
      "source": [
        "Display All Items"
      ]
    },
    {
      "cell_type": "code",
      "metadata": {
        "id": "-vXws_m8u89d"
      },
      "source": [
        "import json"
      ],
      "execution_count": null,
      "outputs": []
    },
    {
      "cell_type": "code",
      "metadata": {
        "id": "brH2lb1ku_z5"
      },
      "source": [
        "fd = open(\"record.json\",'r')\n",
        "r = fd.read()\n",
        "fd.close()\n",
        "\n",
        "records = json.loads(r)"
      ],
      "execution_count": null,
      "outputs": []
    },
    {
      "cell_type": "code",
      "metadata": {
        "id": "FT0FfJ8SvKXn"
      },
      "source": [
        "records"
      ],
      "execution_count": null,
      "outputs": []
    },
    {
      "cell_type": "markdown",
      "metadata": {
        "id": "bJVWTE6_vRrY"
      },
      "source": [
        "Buying Items and Creating a Sales File"
      ]
    },
    {
      "cell_type": "code",
      "metadata": {
        "id": "_Wz5L8vavhie"
      },
      "source": [
        "ui_prod  = str(input(\"Enter the product_Id: \"))\n",
        "ui_quant = int(input(\"Enter the quantity: \"))\n",
        "if ui_quant > records[ui_prod]['Qn'] :\n",
        "  print(\"You have exceeded the maximum Quantity limit\")\n",
        "  print('Quantity available', records[ui_prod]['Qn'] )  \n",
        "else:  \n",
        "  item_no =int(input(\"Item Number : \"))\n",
        "  print(\"Product: \", records[ui_prod]['Name'])\n",
        "  print(\"Price: \", records[ui_prod]['Pr'])\n",
        "  print(\"Billing Amount: \", ( records[ui_prod]['Pr'] + records[ui_prod]['Tax'] ) * ui_quant)\n",
        "  records[ui_prod]['Qn'] = records[ui_prod]['Qn'] - ui_quant"
      ],
      "execution_count": null,
      "outputs": []
    },
    {
      "cell_type": "code",
      "metadata": {
        "id": "TcSEJl7iwMKL"
      },
      "source": [
        "js = json.dumps(records)\n",
        "\n",
        "fd = open(\"record.json\",'w')\n",
        "fd.write(js)\n",
        "fd.close()"
      ],
      "execution_count": null,
      "outputs": []
    },
    {
      "cell_type": "code",
      "metadata": {
        "id": "-6Nu9qXIwdxs"
      },
      "source": [
        "sales = {}  #execute only once"
      ],
      "execution_count": null,
      "outputs": []
    },
    {
      "cell_type": "code",
      "metadata": {
        "id": "NkWnRx2UwQP8"
      },
      "source": [
        "sales[item_no] = {'Prod' : ui_prod, 'Qn' : ui_quant, 'Amount': ( records[ui_prod]['Pr'] + records[ui_prod]['Tax']) * ui_quant}\n",
        "\n",
        "sale = json.dumps(sales)\n",
        "\n",
        "fd = open(\"sales.json\",'w')\n",
        "fd.write(sale)\n",
        "fd.close()"
      ],
      "execution_count": null,
      "outputs": []
    },
    {
      "cell_type": "markdown",
      "metadata": {
        "id": "CVRp74EQw8US"
      },
      "source": [
        "Reading Sales File and Creating Bill"
      ]
    },
    {
      "cell_type": "code",
      "metadata": {
        "id": "OJ5IXzI1xIXf"
      },
      "source": [
        "fd = open(\"sales.json\",'r')\n",
        "r = fd.read()\n",
        "fd.close()\n",
        "\n",
        "sales = json.loads(r)"
      ],
      "execution_count": null,
      "outputs": []
    },
    {
      "cell_type": "code",
      "metadata": {
        "id": "5JMCxWGrxNtF"
      },
      "source": [
        "totalBillAmt=0\n",
        "\n",
        "for i in sales:  \n",
        "  totalBillAmt += sales[i]['Amount']"
      ],
      "execution_count": null,
      "outputs": []
    },
    {
      "cell_type": "code",
      "metadata": {
        "id": "fpbal0Nax49L"
      },
      "source": [
        "import time\n",
        "t = time.ctime()"
      ],
      "execution_count": null,
      "outputs": []
    },
    {
      "cell_type": "code",
      "metadata": {
        "id": "y7Nn0OPX2ira"
      },
      "source": [
        "sales"
      ],
      "execution_count": null,
      "outputs": []
    },
    {
      "cell_type": "code",
      "metadata": {
        "id": "dsBJU3Uy14yg"
      },
      "source": [
        "print(\"Total Amount :\", totalBillAmt )\n",
        "\n",
        "print(\"Billing Time :\", t)"
      ],
      "execution_count": null,
      "outputs": []
    },
    {
      "cell_type": "code",
      "metadata": {
        "id": "HXw4Jc7XyACd"
      },
      "source": [
        "billAmt = json.dumps(\"Total Amount :\")\n",
        "totalBillAmt = json.dumps(totalBillAmt)\n",
        "billTime = json.dumps(\"Billing Time : \")\n",
        "t =json.dumps(t)\n",
        "\n",
        "fd = open(\"sales.json\",'a')\n",
        "\n",
        "fd.write(billAmt)\n",
        "fd.write(totalBillAmt)\n",
        "fd.write(billTime)\n",
        "fd.write(t)\n",
        "\n",
        "fd.close()"
      ],
      "execution_count": null,
      "outputs": []
    }
  ]
}